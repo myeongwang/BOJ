{
 "cells": [
  {
   "cell_type": "markdown",
   "metadata": {},
   "source": [
    "## 문제 1931\n",
    "\n",
    "한 개의 회의실이 있는데 이를 사용하고자 하는 N개의 회의에 대하여 회의실 사용표를 만들려고 한다. 각 회의 I에 대해 시작시간과 끝나는 시간이 주어져 있고, 각 회의가 겹치지 않게 하면서 회의실을 사용할 수 있는 회의의 최대 개수를 찾아보자. 단, 회의는 한번 시작하면 중간에 중단될 수 없으며 한 회의가 끝나는 것과 동시에 다음 회의가 시작될 수 있다. 회의의 시작시간과 끝나는 시간이 같을 수도 있다. 이 경우에는 시작하자마자 끝나는 것으로 생각하면 된다.\n",
    "\n",
    "입력\n",
    "\n",
    "첫째 줄에 회의의 수 N(1 ≤ N ≤ 100,000)이 주어진다. 둘째 줄부터 N+1 줄까지 각 회의의 정보가 주어지는데 이것은 공백을 사이에 두고 회의의 시작시간과 끝나는 시간이 주어진다. 시작 시간과 끝나는 시간은 231-1보다 작거나 같은 자연수 또는 0이다.\n",
    "\n",
    "출력\n",
    "\n",
    "첫째 줄에 최대 사용할 수 있는 회의의 최대 개수를 출력한다.\n",
    "\n",
    "예제 입력 1 \n",
    "\n",
    "11\n",
    "\n",
    "1 4\n",
    "\n",
    "3 5\n",
    "\n",
    "0 6\n",
    "\n",
    "5 7\n",
    "\n",
    "3 8\n",
    "\n",
    "5 9\n",
    "\n",
    "6 10\n",
    "\n",
    "8 11\n",
    "\n",
    "8 12\n",
    "\n",
    "2 13\n",
    "\n",
    "12 14\n",
    "\n",
    "예제 출력 1 \n",
    "\n",
    "4\n",
    "\n",
    "힌트\n",
    "\n",
    "(1,4), (5,7), (8,11), (12,14) 를 이용할 수 있다."
   ]
  },
  {
   "cell_type": "markdown",
   "metadata": {},
   "source": [
    "1\n",
    "# N=int(input())\n",
    "\n",
    "for i in range(N):\n",
    "    a,b=map(int,input().split())\n",
    "    \n",
    "    \n",
    "\n"
   ]
  },
  {
   "cell_type": "markdown",
   "metadata": {},
   "source": [
    "## 문제 11022"
   ]
  },
  {
   "cell_type": "code",
   "execution_count": 24,
   "metadata": {},
   "outputs": [
    {
     "name": "stdout",
     "output_type": "stream",
     "text": [
      "3 \n",
      "1 2\n",
      "2 3\n",
      "4 5\n",
      "Case #1: 1 + 2 = 3\n",
      "Case #2: 2 + 3 = 5\n",
      "Case #3: 4 + 5 = 9\n"
     ]
    }
   ],
   "source": [
    "n= int(input())\n",
    "arr=[]\n",
    "vrr=[]\n",
    "\n",
    "arr = [[0]*2 for _ in range(n)]\n",
    "for i in range(n): \n",
    "    x, y = map(int, input().split()) \n",
    "    arr[i][0] = x \n",
    "    arr[i][1] = y\n",
    "\n",
    "# 아래 주석이랑 위의 알고리즘이랑 뭐가 다른 지 알자!\n",
    "# arr=[]\n",
    "# vrr=[]\n",
    "#for i in range(n):\n",
    "#    x,y=map(int,input().split())\n",
    "#    arr[i]=x\n",
    "#    vrr[i]=y\n",
    "    \n",
    "for i in range(0,n):\n",
    "    print(\"Case #\",end='')\n",
    "    print(i+1,end='')\n",
    "    print(\":\", arr[i][0], \"+\",arr[i][1],\"=\",arr[i][0] + arr[i][1])\n",
    "\n"
   ]
  },
  {
   "cell_type": "markdown",
   "metadata": {},
   "source": [
    "## 문제 1924"
   ]
  },
  {
   "cell_type": "code",
   "execution_count": 28,
   "metadata": {},
   "outputs": [
    {
     "ename": "SyntaxError",
     "evalue": "unexpected EOF while parsing (<ipython-input-28-18d6c89373e7>, line 23)",
     "output_type": "error",
     "traceback": [
      "\u001b[1;36m  File \u001b[1;32m\"<ipython-input-28-18d6c89373e7>\"\u001b[1;36m, line \u001b[1;32m23\u001b[0m\n\u001b[1;33m    if m==1:\u001b[0m\n\u001b[1;37m            ^\u001b[0m\n\u001b[1;31mSyntaxError\u001b[0m\u001b[1;31m:\u001b[0m unexpected EOF while parsing\n"
     ]
    }
   ],
   "source": [
    "# my solution -> 개빠가네 : 1~12월의 시작일이 무슨 일인지 알아서 그에 따라 365개에 월화수모금토일 넣은 후 출력하려했음.\n",
    "## ㅈㄴ 비효율적인 것 같은데..\n",
    "\n",
    "n=5\n",
    "for i in range(1,13):\n",
    "    arr_i=[[0]*7 for _ in range(n)]\n",
    "\n",
    "for i in range(1,13):\n",
    "    for j in range(5):\n",
    "        arr_i[j][0]=\"MON\"\n",
    "        arr_i[j][1]=\"TUE\"\n",
    "        arr_i[j][2]=\"WED\"\n",
    "        arr_i[j][3]=\"THU\"\n",
    "        arr_i[j][4]=\"FRI\"\n",
    "        arr_i[j][5]=\"SAT\"\n",
    "        arr_i[j][6]=\"SUN\"\n",
    "        \n",
    "    \n",
    "    \n",
    "\n",
    "m,d=map(int,input().split())\n",
    "\n",
    "if m==1:\n"
   ]
  },
  {
   "cell_type": "code",
   "execution_count": 29,
   "metadata": {},
   "outputs": [
    {
     "name": "stdout",
     "output_type": "stream",
     "text": [
      "3 5\n",
      "MON\n"
     ]
    }
   ],
   "source": [
    "\n",
    "Day = 0\n",
    "arrList = [31, 28, 31, 30, 31, 30, 31, 31, 30, 31, 30, 31]\n",
    "weekList = [\"SUN\", \"MON\",\"TUE\", \"WED\", \"THU\", \"FRI\", \"SAT\"]\n",
    " \n",
    "x, y = map(int,input().split())\n",
    " \n",
    "for i in range(x-1): \n",
    "    Day = Day + arrList[i]#imp \n",
    "Day = (Day + y) % 7 #imp\n",
    " \n",
    "print(weekList[Day])"
   ]
  }
 ],
 "metadata": {
  "kernelspec": {
   "display_name": "Python 3",
   "language": "python",
   "name": "python3"
  },
  "language_info": {
   "codemirror_mode": {
    "name": "ipython",
    "version": 3
   },
   "file_extension": ".py",
   "mimetype": "text/x-python",
   "name": "python",
   "nbconvert_exporter": "python",
   "pygments_lexer": "ipython3",
   "version": "3.7.6"
  }
 },
 "nbformat": 4,
 "nbformat_minor": 4
}
