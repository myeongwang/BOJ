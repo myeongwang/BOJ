{
 "cells": [
  {
   "cell_type": "markdown",
   "metadata": {},
   "source": [
    "## 문제 11399\n",
    "인하은행에는 ATM이 1대밖에 없다. 지금 이 ATM앞에 N명의 사람들이 줄을 서있다. 사람은 1번부터 N번까지 번호가 매겨져 있으며, i번 사람이 돈을 인출하는데 걸리는 시간은 Pi분이다.\n",
    "\n",
    "사람들이 줄을 서는 순서에 따라서, 돈을 인출하는데 필요한 시간의 합이 달라지게 된다. 예를 들어, 총 5명이 있고, P1 = 3, P2 = 1, P3 = 4, P4 = 3, P5 = 2 인 경우를 생각해보자. [1, 2, 3, 4, 5] 순서로 줄을 선다면, 1번 사람은 3분만에 돈을 뽑을 수 있다. 2번 사람은 1번 사람이 돈을 뽑을 때 까지 기다려야 하기 때문에, 3+1 = 4분이 걸리게 된다. 3번 사람은 1번, 2번 사람이 돈을 뽑을 때까지 기다려야 하기 때문에, 총 3+1+4 = 8분이 필요하게 된다. 4번 사람은 3+1+4+3 = 11분, 5번 사람은 3+1+4+3+2 = 13분이 걸리게 된다. 이 경우에 각 사람이 돈을 인출하는데 필요한 시간의 합은 3+4+8+11+13 = 39분이 된다.\n",
    "\n",
    "줄을 [2, 5, 1, 4, 3] 순서로 줄을 서면, 2번 사람은 1분만에, 5번 사람은 1+2 = 3분, 1번 사람은 1+2+3 = 6분, 4번 사람은 1+2+3+3 = 9분, 3번 사람은 1+2+3+3+4 = 13분이 걸리게 된다. 각 사람이 돈을 인출하는데 필요한 시간의 합은 1+3+6+9+13 = 32분이다. 이 방법보다 더 필요한 시간의 합을 최소로 만들 수는 없다.\n",
    "\n",
    "줄을 서 있는 사람의 수 N과 각 사람이 돈을 인출하는데 걸리는 시간 Pi가 주어졌을 때, 각 사람이 돈을 인출하는데 필요한 시간의 합의 최솟값을 구하는 프로그램을 작성하시오.\n",
    "\n",
    "입력\n",
    "첫째 줄에 사람의 수 N(1 ≤ N ≤ 1,000)이 주어진다. 둘째 줄에는 각 사람이 돈을 인출하는데 걸리는 시간 Pi가 주어진다. (1 ≤ Pi ≤ 1,000)\n",
    "\n",
    "출력\n",
    "첫째 줄에 각 사람이 돈을 인출하는데 필요한 시간의 합의 최솟값을 출력한다.\n",
    "\n",
    "예제 입력 1 \n",
    "\n",
    "5\n",
    "\n",
    "3 1 4 3 2\n",
    "\n",
    "예제 출력 1 \n",
    "\n",
    "32\n",
    "\n",
    "for i in range(n):\n",
    "    print(arr[i], end= ' ')    # 줄바뀜 방지 한 줄로 출력 가능\n",
    "    \n",
    "    \n",
    "nums = list(map(int, input().split()))  # 이런 식으로 한 줄 만에 배열 즉, 리스트 정의 가능.   "
   ]
  },
  {
   "cell_type": "code",
   "execution_count": 11,
   "metadata": {},
   "outputs": [
    {
     "name": "stdout",
     "output_type": "stream",
     "text": [
      "3\n",
      "1 2 3\n",
      "1 2 3 "
     ]
    }
   ],
   "source": [
    "n=int(input())   \n",
    "a=map(int,input().split()) # 의미파악 ㄹㅇ 완료\n",
    "arr=[]\n",
    "\n",
    "for i in range(0,n):\n",
    "    arr.append(int(a[i]))\n",
    "\n",
    "#작은 수끼리 먼저 더해져야 최소값 도출 가능\n",
    "#때문에 [0]~[n] 순으로 큰 값이 저장되어야한다.\n",
    "\n",
    "for i in range(n):\n",
    "    if(arr[0]>=arr[i]):\n",
    "        arr[0]=arr[i]\n",
    "        \n",
    "    if(arr[1]>=arr[i])\n",
    "\n",
    "\n",
    "\n",
    "    \n",
    "\n",
    "\n",
    "           \n",
    "    "
   ]
  },
  {
   "cell_type": "code",
   "execution_count": 1,
   "metadata": {},
   "outputs": [
    {
     "name": "stdout",
     "output_type": "stream",
     "text": [
      "5\n",
      "5 2 1 3 4\n",
      "35\n"
     ]
    }
   ],
   "source": [
    "N = int(input())\n",
    "nums = list(map(int, input().split()))\n",
    "\n",
    "if N == 1 : #1\n",
    "    print(nums[0])\n",
    "else : \n",
    "    nums.sort() #2\n",
    "\n",
    "    i_sum = 0 \n",
    "    min_sum = 0\n",
    "\n",
    "    for i in range(N): \n",
    "        min_sum += (i_sum + nums[i]) #3\n",
    "        i_sum += nums[i] #4\n",
    "        \n",
    "    print(min_sum)"
   ]
  },
  {
   "cell_type": "markdown",
   "metadata": {},
   "source": [
    "## 문제 11047\n",
    "준규가 가지고 있는 동전은 총 N종류이고, 각각의 동전을 매우 많이 가지고 있다.\n",
    "\n",
    "동전을 적절히 사용해서 그 가치의 합을 K로 만들려고 한다. 이때 필요한 동전 개수의 최솟값을 구하는 프로그램을 작성하시오.\n",
    "\n",
    "입력\n",
    "첫째 줄에 N과 K가 주어진다. (1 ≤ N ≤ 10, 1 ≤ K ≤ 100,000,000)\n",
    "\n",
    "둘째 줄부터 N개의 줄에 동전의 가치 Ai가 오름차순으로 주어진다. (1 ≤ Ai ≤ 1,000,000, A1 = 1, i ≥ 2인 경우에 Ai는 Ai-1의 배수)\n",
    "\n",
    "출력\n",
    "첫째 줄에 K원을 만드는데 필요한 동전 개수의 최솟값을 출력한다.\n",
    "\n",
    "예제 입력 1\n",
    "\n",
    "10 4200\n",
    "\n",
    "1\n",
    "\n",
    "5\n",
    "\n",
    "10\n",
    "\n",
    "50\n",
    "\n",
    "100\n",
    "\n",
    "500\n",
    "\n",
    "1000\n",
    "\n",
    "5000\n",
    "\n",
    "10000\n",
    "\n",
    "50000\n",
    "\n",
    "예제 출력 1 \n",
    "\n",
    "6"
   ]
  },
  {
   "cell_type": "code",
   "execution_count": 8,
   "metadata": {
    "scrolled": true
   },
   "outputs": [
    {
     "name": "stdout",
     "output_type": "stream",
     "text": [
      "2 3000\n",
      "1000\n",
      "2000\n",
      "None None "
     ]
    }
   ],
   "source": [
    "N,K=map(int,input().split())\n",
    "\n",
    "#arr=list(map(int,input().split())) #줄 바꿈이므로 이건 아닌듯\n",
    "\n",
    "arr=[]\n",
    "vrr=[]\n",
    "\n",
    "for i in range(N):\n",
    "    arr.append(int(input()))\n",
    "    \n",
    "for i in range(N):\n",
    "    if(arr[i]==K):\n",
    "        print(1)\n",
    "        \n",
    "    elif(arr[i]<K):\n",
    "        \n",
    "        vrr.append(arr.sort())\n",
    "        \n",
    "        \n",
    "        print(vrr[i], end= ' ')\n",
    "        \n",
    "    \n",
    "        \n",
    "        \n",
    "        \n",
    "    \n",
    "        \n",
    "            \n",
    "        \n",
    "        \n",
    "    \n",
    "\n",
    "\n",
    "\n",
    "\n"
   ]
  },
  {
   "cell_type": "raw",
   "metadata": {},
   "source": [
    " def solution(inputPriceArr):\n",
    "    global Price\n",
    "    answer = 0\n",
    "    for i in range(InputLen):\n",
    "        if Price // inputPriceArr[i] > 0:\n",
    "            answer += (Price // inputPriceArr[i])\n",
    "            Price -= inputPriceArr[i] * (Price // inputPriceArr[i])\n",
    " \n",
    "    return answer\n",
    " \n",
    " \n",
    "InputLen, Price= map(int, input().split())\n",
    "inputPriceArr = []\n",
    "for i in range(InputLen):\n",
    "    inputPriceArr.append(int(input()))\n",
    " \n",
    "inputPriceArr.sort(reverse=True)\n",
    " print(solution(inputPriceArr))\n",
    "    \n",
    "    \n",
    "## Tqkfwrjdlrnaks vkdlTjs wqkqdlsh ro whcqkqdlsh tpgmldi tkfkdgo dlatpgml soRjdi tpgml qhrhtlvek tpgml qhrntlveksmsd vb    "
   ]
  },
  {
   "cell_type": "code",
   "execution_count": 1,
   "metadata": {},
   "outputs": [
    {
     "name": "stdout",
     "output_type": "stream",
     "text": [
      "2 3000\n",
      "1000\n",
      "2000\n",
      "2\n"
     ]
    }
   ],
   "source": [
    " def solution(inputPriceArr):\n",
    "        global Price\n",
    "        answer = 0\n",
    "        for i in range(InputLen):\n",
    "            if Price // inputPriceArr[i] > 0:\n",
    "                answer += (Price // inputPriceArr[i])\n",
    "                Price -= inputPriceArr[i] * (Price // inputPriceArr[i])\n",
    "                \n",
    "        return answer        \n",
    "        \n",
    "InputLen, Price= map(int, input().split())\n",
    "inputPriceArr = []\n",
    "for i in range(InputLen):\n",
    "    inputPriceArr.append(int(input()))\n",
    " \n",
    "inputPriceArr.sort(reverse=True)\n",
    "print(solution(inputPriceArr))\n",
    "\n",
    "## ws dkfmaekqek djEJs dkfmaekdns duwkqhekeh ej gnjfTls dkfmaekqek"
   ]
  },
  {
   "cell_type": "code",
   "execution_count": 4,
   "metadata": {},
   "outputs": [
    {
     "name": "stdout",
     "output_type": "stream",
     "text": [
      "2 3000\n",
      "1000\n",
      "2000\n",
      "2\n"
     ]
    }
   ],
   "source": [
    "N,K=map(int,input().split())\n",
    "A=0\n",
    "arr=[]\n",
    "\n",
    "for i in range(N):\n",
    "    arr.append(int(input()))\n",
    "arr.sort(reverse=True) #dkwn Tkqkf wjrdlrh epgpt rlahEl dkd rlahEl\n",
    "\n",
    "for i in range(N):\n",
    "    if K//arr[i]>0:\n",
    "        A+=(K//arr[i])\n",
    "        K-= arr[i]*(K//arr[i])\n",
    "            \n",
    "print(A)    \n",
    "    \n",
    "\n",
    "# ㅅㅂ 이런 생각은 어떻게 하는걸까\n",
    "#for i in range(N):\n",
    "#    print(arr[i],end= ' ')\n"
   ]
  }
 ],
 "metadata": {
  "kernelspec": {
   "display_name": "Python 3",
   "language": "python",
   "name": "python3"
  },
  "language_info": {
   "codemirror_mode": {
    "name": "ipython",
    "version": 3
   },
   "file_extension": ".py",
   "mimetype": "text/x-python",
   "name": "python",
   "nbconvert_exporter": "python",
   "pygments_lexer": "ipython3",
   "version": "3.7.6"
  }
 },
 "nbformat": 4,
 "nbformat_minor": 4
}
